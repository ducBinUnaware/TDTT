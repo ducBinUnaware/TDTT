{
 "cells": [
  {
   "cell_type": "code",
   "execution_count": null,
   "id": "e11cc759",
   "metadata": {},
   "outputs": [],
   "source": [
    "#W4A1\n",
    "n=int(input())\n",
    "total=0\n",
    "for i in range (n+1):\n",
    "    total+=i\n",
    "print(total)"
   ]
  },
  {
   "cell_type": "code",
   "execution_count": null,
   "id": "93dfab33",
   "metadata": {},
   "outputs": [],
   "source": [
    "#W4A2\n",
    "\n",
    "def snt(a):\n",
    "    for i in range (2,int(a**0.5)+1):\n",
    "        if a%i==0:\n",
    "            return False\n",
    "    return a>1\n",
    "n=int(input())\n",
    "while n<0:\n",
    "    n=int(input(\"Nhap lai: \"))\n",
    "print(\"True\") if snt(n) else print(\"False\")"
   ]
  },
  {
   "cell_type": "code",
   "execution_count": null,
   "id": "023943a1",
   "metadata": {},
   "outputs": [],
   "source": [
    "#W4A3\n",
    "\n",
    "def factorial(n):\n",
    "    FAC=1\n",
    "    for i in range (1,n+1):\n",
    "        FAC*=i\n",
    "    return FAC\n",
    "n=int(input())\n",
    "print (factorial(n))"
   ]
  },
  {
   "cell_type": "code",
   "execution_count": null,
   "id": "831da0b1",
   "metadata": {},
   "outputs": [],
   "source": [
    "#W4A4\n",
    "def Count(n):\n",
    "    total=0\n",
    "    n=abs(n)\n",
    "    while n!=0:\n",
    "        total+=1\n",
    "        n//=10\n",
    "    return total\n",
    "n=int(input())\n",
    "print(Count(n))\n"
   ]
  },
  {
   "cell_type": "code",
   "execution_count": null,
   "id": "a932b7b6",
   "metadata": {},
   "outputs": [],
   "source": [
    "#W4A5\n",
    "n=int(input())\n",
    "aray=list(map(int,input().split()))\n",
    "while len(aray)!=n:\n",
    "    aray=list(map(int,input(\"Nhap lai: \").split()))\n",
    "print (\"I′ve found the meaning of life!\") if aray.count(42)!=0 else print(\"It′s a joke!\")"
   ]
  },
  {
   "cell_type": "code",
   "execution_count": null,
   "id": "d0c88a26",
   "metadata": {},
   "outputs": [],
   "source": [
    "#W4A6\n",
    "def snt(n):\n",
    "    for i in range (2,int(n**0.5+1)):\n",
    "        if n%i==0:\n",
    "            return False\n",
    "    return n>1\n",
    "a,b=map(int,input().split())\n",
    "total=0\n",
    "for i in range (a,b+1):\n",
    "    if snt(i):\n",
    "        total+=i\n",
    "print (total)"
   ]
  },
  {
   "cell_type": "code",
   "execution_count": null,
   "id": "8accf40e",
   "metadata": {},
   "outputs": [],
   "source": [
    "#W4A7\n",
    "n=int(input())\n",
    "for i in range (n+1):\n",
    "    if snt(i) and n%i==0:\n",
    "        maX_nums=i\n",
    "print(maX_nums)"
   ]
  },
  {
   "cell_type": "code",
   "execution_count": null,
   "id": "5504e705",
   "metadata": {},
   "outputs": [],
   "source": [
    "#W4A8\n",
    "def reversed_nums(n):\n",
    "    n=str(n)\n",
    "    rev_n= n[::-1]\n",
    "    return int(rev_n)\n",
    "n=int(input())\n",
    "total=0\n",
    "while(n!=reversed_nums(n)):\n",
    "    n=n+reversed_nums(n)\n",
    "    total+=1\n",
    "print(total,n)"
   ]
  },
  {
   "cell_type": "code",
   "execution_count": null,
   "id": "2a450b97",
   "metadata": {},
   "outputs": [],
   "source": [
    "#W4A9\n",
    "def scp(n):\n",
    "    if n**0.5==int(n**0.5):\n",
    "        return True\n",
    "    return False\n",
    "n=int(input())\n",
    "for i in range(1,n+1):\n",
    "    if scp(i):\n",
    "        print(i,end=\" \")"
   ]
  },
  {
   "cell_type": "code",
   "execution_count": null,
   "id": "c244379a",
   "metadata": {},
   "outputs": [],
   "source": [
    "#W4a10\n",
    "n=int(input())\n",
    "a=[]\n",
    "for i in range (1,n+1):\n",
    "    total=0\n",
    "    test=i\n",
    "    while test!=1:\n",
    "        total+=1\n",
    "        test=test//2 if test%2==0 else test*3+1\n",
    "    a.append(total)\n",
    "print (a.index(max(a))+1,max(a)+1)"
   ]
  },
  {
   "cell_type": "code",
   "execution_count": null,
   "id": "41e1b38e",
   "metadata": {},
   "outputs": [],
   "source": [
    "#w4a11\n",
    "n=int(input())\n",
    "total=0\n",
    "for i in range(1,n+1):\n",
    "    if n%i==0 and i%2==0:\n",
    "        total+=1\n",
    "print (total)"
   ]
  },
  {
   "cell_type": "code",
   "execution_count": 8,
   "id": "d9f25bbc",
   "metadata": {},
   "outputs": [
    {
     "name": "stdout",
     "output_type": "stream",
     "text": [
      "2055\n"
     ]
    }
   ],
   "source": [
    "#w4A12\n",
    "x,n=map(int,input().split())\n",
    "for i in range(1,n+1):\n",
    "    x=x*0.7/100+x\n",
    "print(int(x))"
   ]
  },
  {
   "cell_type": "code",
   "execution_count": null,
   "id": "037d4416",
   "metadata": {},
   "outputs": [
    {
     "name": "stdout",
     "output_type": "stream",
     "text": [
      "false\n"
     ]
    }
   ],
   "source": [
    "#w4a13\n",
    "def ClosePairN(n,m):\n",
    "    total_n=0\n",
    "    total_m=0\n",
    "    for i in range(1,n):\n",
    "        if n%i==0:\n",
    "            total_n+=i\n",
    "    for i in range(1,m):\n",
    "        if m%i==0:\n",
    "            total_m+=i\n",
    "    return total_n==m and total_m==n\n",
    "n,m=map(int,input().split())\n",
    "print(\"true\") if ClosePairN(n,m) else print(\"false\")"
   ]
  },
  {
   "cell_type": "code",
   "execution_count": 13,
   "id": "8af99e26",
   "metadata": {},
   "outputs": [
    {
     "name": "stdout",
     "output_type": "stream",
     "text": [
      "8\n"
     ]
    }
   ],
   "source": [
    "#w4a14\n",
    "import math\n",
    "n,m=map(int,input().split())\n",
    "print(math.gcd(n,m))"
   ]
  },
  {
   "cell_type": "code",
   "execution_count": 20,
   "id": "7d5e75b9",
   "metadata": {},
   "outputs": [
    {
     "name": "stdout",
     "output_type": "stream",
     "text": [
      "So con cho la: 0 So con ga la: 1\n"
     ]
    }
   ],
   "source": [
    "#W4a15\n",
    "n,m=map(int,input().split())\n",
    "#x + y = n\n",
    "#4x + 2y =m\n",
    "\"\"\"\n",
    "[ 1 1 n\n",
    "  4 2 m]\n",
    "[ 1 1 n\n",
    "  0 2 4n-m]\n",
    "[ 1 0 n-(4n-m)/2\n",
    "  0 1 (4n-m)/2]\n",
    "\"\"\"\n",
    "x=n-(4*n-m)/2\n",
    "y=(4*n-m)/2\n",
    "print (\"So con cho la:\",int(x),\"So con ga la:\",int(y)) if int(x)==x and int(y)==y and x>=0 and y>=0 else print(\"invalid\")"
   ]
  },
  {
   "cell_type": "code",
   "execution_count": 21,
   "id": "1ecb89a1",
   "metadata": {},
   "outputs": [
    {
     "name": "stdout",
     "output_type": "stream",
     "text": [
      "6 12 18 24 30 36 42 48 54 60 66 72 78 84 90 96 "
     ]
    }
   ],
   "source": [
    "#w4a16\n",
    "for i in range(3,100):\n",
    "    if i%3==0 and i%2==0:\n",
    "        print(i,end=\" \")"
   ]
  },
  {
   "cell_type": "code",
   "execution_count": 22,
   "id": "48d4ba08",
   "metadata": {},
   "outputs": [
    {
     "name": "stdout",
     "output_type": "stream",
     "text": [
      "3 x 1 = 3\n",
      "3 x 2 = 6\n",
      "3 x 3 = 9\n",
      "3 x 4 = 12\n",
      "3 x 5 = 15\n",
      "3 x 6 = 18\n",
      "3 x 7 = 21\n",
      "3 x 8 = 24\n",
      "3 x 9 = 27\n",
      "3 x 10 = 30\n"
     ]
    }
   ],
   "source": [
    "#w4a17\n",
    "a=int(input())\n",
    "for i in range(1,11):\n",
    "    print(a,\"x\",i,\"=\",a*i)"
   ]
  },
  {
   "cell_type": "code",
   "execution_count": 28,
   "id": "283157d6",
   "metadata": {},
   "outputs": [
    {
     "name": "stdout",
     "output_type": "stream",
     "text": [
      "1 2 5 10 25 50 "
     ]
    }
   ],
   "source": [
    "#w4a18\n",
    "a,b=map(int,input().split())\n",
    "for i in range (1,min(a,b)+1):\n",
    "    if a%i==0 and b%i==0:\n",
    "        print (i,end=\" \")"
   ]
  },
  {
   "cell_type": "code",
   "execution_count": 29,
   "id": "314f3630",
   "metadata": {},
   "outputs": [
    {
     "name": "stdout",
     "output_type": "stream",
     "text": [
      "2 4 6 8 "
     ]
    }
   ],
   "source": [
    "#w4a19\n",
    "n=int(input())\n",
    "for i in range(1,n+1):\n",
    "    if i%2==0:\n",
    "        print(i,end=\" \")\n"
   ]
  },
  {
   "cell_type": "code",
   "execution_count": 37,
   "id": "cc08376c",
   "metadata": {},
   "outputs": [
    {
     "name": "stdout",
     "output_type": "stream",
     "text": [
      "no\n"
     ]
    }
   ],
   "source": [
    "#w4a20\n",
    "n=int(input())\n",
    "print(\"2^k\") if n&(n-1)==0 else print(\"no\")\n"
   ]
  },
  {
   "cell_type": "code",
   "execution_count": 39,
   "id": "37dfd5d4",
   "metadata": {},
   "outputs": [
    {
     "name": "stdout",
     "output_type": "stream",
     "text": [
      "11\n"
     ]
    }
   ],
   "source": [
    "#w4a21\n",
    "n=int(input())\n",
    "total=0\n",
    "while n!=0:\n",
    "    total+=n%10\n",
    "    n//=10\n",
    "print(total)"
   ]
  },
  {
   "cell_type": "code",
   "execution_count": null,
   "id": "5bd68d65",
   "metadata": {},
   "outputs": [
    {
     "name": "stdout",
     "output_type": "stream",
     "text": [
      "3 1\n"
     ]
    }
   ],
   "source": [
    "#w4a22\n",
    "n=int(input())\n",
    "even=0\n",
    "odd=0\n",
    "while n!=0:\n",
    "    if(n%10)%2==0:\n",
    "        even+=1\n",
    "    else:\n",
    "        odd+=1\n",
    "    n//=10\n",
    "print(even,odd)\n"
   ]
  },
  {
   "cell_type": "code",
   "execution_count": null,
   "id": "9e2b280d",
   "metadata": {},
   "outputs": [],
   "source": [
    "#w4a33\n",
    "n=int(input())\n",
    "n=str(n)\n",
    "n=n[::-1]\n",
    "while len\n",
    "\n"
   ]
  }
 ],
 "metadata": {
  "kernelspec": {
   "display_name": "Python 3",
   "language": "python",
   "name": "python3"
  },
  "language_info": {
   "codemirror_mode": {
    "name": "ipython",
    "version": 3
   },
   "file_extension": ".py",
   "mimetype": "text/x-python",
   "name": "python",
   "nbconvert_exporter": "python",
   "pygments_lexer": "ipython3",
   "version": "3.13.7"
  }
 },
 "nbformat": 4,
 "nbformat_minor": 5
}
