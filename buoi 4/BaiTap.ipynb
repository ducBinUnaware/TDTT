{
 "cells": [
  {
   "cell_type": "code",
   "execution_count": 16,
   "id": "e11cc759",
   "metadata": {},
   "outputs": [
    {
     "name": "stdout",
     "output_type": "stream",
     "text": [
      "15\n"
     ]
    }
   ],
   "source": [
    "#W4A1\n",
    "n=int(input())\n",
    "total=0\n",
    "for i in range (n+1):\n",
    "    total+=i\n",
    "print(total)"
   ]
  },
  {
   "cell_type": "code",
   "execution_count": 5,
   "id": "93dfab33",
   "metadata": {},
   "outputs": [
    {
     "name": "stdout",
     "output_type": "stream",
     "text": [
      "False\n"
     ]
    }
   ],
   "source": [
    "#W4A2\n",
    "\n",
    "def snt(a):\n",
    "    for i in range (2,int(a**0.5)+1):\n",
    "        if a%i==0:\n",
    "            return False\n",
    "    return a>1\n",
    "n=int(input())\n",
    "while n<0:\n",
    "    n=int(input(\"Nhap lai: \"))\n",
    "print(\"True\") if snt(n) else print(\"False\")"
   ]
  },
  {
   "cell_type": "code",
   "execution_count": null,
   "id": "023943a1",
   "metadata": {},
   "outputs": [
    {
     "name": "stdout",
     "output_type": "stream",
     "text": [
      "24\n"
     ]
    }
   ],
   "source": [
    "#W4A3\n",
    "\n",
    "def factorial(n):\n",
    "    FAC=1\n",
    "    for i in range (1,n+1):\n",
    "        FAC*=i\n",
    "    return FAC\n",
    "n=int(input())\n",
    "print (factorial(n))"
   ]
  },
  {
   "cell_type": "code",
   "execution_count": 12,
   "id": "831da0b1",
   "metadata": {},
   "outputs": [
    {
     "name": "stdout",
     "output_type": "stream",
     "text": [
      "6\n"
     ]
    }
   ],
   "source": [
    "#W4A4\n",
    "def Count(n):\n",
    "    total=0\n",
    "    n=abs(n)\n",
    "    while n!=0:\n",
    "        total+=1\n",
    "        n//=10\n",
    "    return total\n",
    "n=int(input())\n",
    "print(Count(n))\n"
   ]
  },
  {
   "cell_type": "code",
   "execution_count": 14,
   "id": "a932b7b6",
   "metadata": {},
   "outputs": [
    {
     "name": "stdout",
     "output_type": "stream",
     "text": [
      "It′s a joke!\n"
     ]
    }
   ],
   "source": [
    "#W4A5\n",
    "n=int(input())\n",
    "aray=list(map(int,input().split()))\n",
    "while len(aray)!=n:\n",
    "    aray=list(map(int,input(\"Nhap lai: \").split()))\n",
    "print (\"I′ve found the meaning of life!\") if aray.count(42)!=0 else print(\"It′s a joke!\")"
   ]
  },
  {
   "cell_type": "code",
   "execution_count": 15,
   "id": "d0c88a26",
   "metadata": {},
   "outputs": [
    {
     "name": "stdout",
     "output_type": "stream",
     "text": [
      "17\n"
     ]
    }
   ],
   "source": [
    "#W4A6\n",
    "def snt(n):\n",
    "    for i in range (2,int(n**0.5+1)):\n",
    "        if n%i==0:\n",
    "            return False\n",
    "    return n>1\n",
    "a,b=map(int,input().split())\n",
    "total=0\n",
    "for i in range (a,b+1):\n",
    "    if snt(i):\n",
    "        total+=i\n",
    "print (total)"
   ]
  },
  {
   "cell_type": "code",
   "execution_count": null,
   "id": "8accf40e",
   "metadata": {},
   "outputs": [
    {
     "name": "stdout",
     "output_type": "stream",
     "text": [
      "97\n"
     ]
    }
   ],
   "source": [
    "#W4A7\n",
    "n=int(input())\n",
    "for i in range (n+1):\n",
    "    if snt(i) and n%i==0:\n",
    "        maX_nums=i\n",
    "print(maX_nums)"
   ]
  },
  {
   "cell_type": "code",
   "execution_count": 29,
   "id": "5504e705",
   "metadata": {},
   "outputs": [
    {
     "name": "stdout",
     "output_type": "stream",
     "text": [
      "24 8813200023188\n"
     ]
    }
   ],
   "source": [
    "#W4A8\n",
    "def reversed_nums(n):\n",
    "    n=str(n)\n",
    "    rev_n= n[::-1]\n",
    "    return int(rev_n)\n",
    "n=int(input())\n",
    "total=0\n",
    "while(n!=reversed_nums(n)):\n",
    "    n=n+reversed_nums(n)\n",
    "    total+=1\n",
    "print(total,n)"
   ]
  },
  {
   "cell_type": "code",
   "execution_count": 30,
   "id": "2a450b97",
   "metadata": {},
   "outputs": [
    {
     "name": "stdout",
     "output_type": "stream",
     "text": [
      "1 4 9 "
     ]
    }
   ],
   "source": [
    "#W4A9\n",
    "def scp(n):\n",
    "    if n**0.5==int(n**0.5):\n",
    "        return True\n",
    "    return False\n",
    "n=int(input())\n",
    "for i in range(1,n+1):\n",
    "    if scp(i):\n",
    "        print(i,end=\" \")"
   ]
  },
  {
   "cell_type": "code",
   "execution_count": null,
   "id": "c244379a",
   "metadata": {},
   "outputs": [
    {
     "name": "stdout",
     "output_type": "stream",
     "text": [
      "3 8\n"
     ]
    }
   ],
   "source": [
    "#W4a10\n",
    "n=int(input())\n",
    "a=[]\n",
    "for i in range (1,n+1):\n",
    "    total=0\n",
    "    test=i\n",
    "    while test!=1:\n",
    "        total+=1\n",
    "        test=test//2 if test%2==0 else test*3+1\n",
    "    a.append(total)\n",
    "print (a.index(max(a))+1,max(a)+1)"
   ]
  },
  {
   "cell_type": "code",
   "execution_count": 48,
   "id": "41e1b38e",
   "metadata": {},
   "outputs": [
    {
     "name": "stdout",
     "output_type": "stream",
     "text": [
      "3\n"
     ]
    }
   ],
   "source": [
    "#w4a11\n",
    "n=int(input())\n",
    "total=0\n",
    "for i in range(1,n+1):\n",
    "    if n%i==0 and i%2==0:\n",
    "        total+=1\n",
    "print (total)"
   ]
  }
 ],
 "metadata": {
  "kernelspec": {
   "display_name": "Python 3",
   "language": "python",
   "name": "python3"
  },
  "language_info": {
   "codemirror_mode": {
    "name": "ipython",
    "version": 3
   },
   "file_extension": ".py",
   "mimetype": "text/x-python",
   "name": "python",
   "nbconvert_exporter": "python",
   "pygments_lexer": "ipython3",
   "version": "3.13.7"
  }
 },
 "nbformat": 4,
 "nbformat_minor": 5
}
